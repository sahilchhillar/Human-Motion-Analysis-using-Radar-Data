{
 "cells": [
  {
   "cell_type": "code",
   "execution_count": 1,
   "id": "parliamentary-representative",
   "metadata": {},
   "outputs": [],
   "source": [
    "import matplotlib.pyplot as plt\n",
    "import seaborn as sns\n",
    "import numpy as np\n",
    "import pandas as pd"
   ]
  },
  {
   "cell_type": "code",
   "execution_count": 2,
   "id": "lonely-library",
   "metadata": {},
   "outputs": [
    {
     "data": {
      "text/html": [
       "<div>\n",
       "<style scoped>\n",
       "    .dataframe tbody tr th:only-of-type {\n",
       "        vertical-align: middle;\n",
       "    }\n",
       "\n",
       "    .dataframe tbody tr th {\n",
       "        vertical-align: top;\n",
       "    }\n",
       "\n",
       "    .dataframe thead th {\n",
       "        text-align: right;\n",
       "    }\n",
       "</style>\n",
       "<table border=\"1\" class=\"dataframe\">\n",
       "  <thead>\n",
       "    <tr style=\"text-align: right;\">\n",
       "      <th></th>\n",
       "      <th>Model</th>\n",
       "      <th>Accuracy</th>\n",
       "      <th>Type</th>\n",
       "    </tr>\n",
       "  </thead>\n",
       "  <tbody>\n",
       "    <tr>\n",
       "      <th>0</th>\n",
       "      <td>Random Forest</td>\n",
       "      <td>0.881250</td>\n",
       "      <td>Raw</td>\n",
       "    </tr>\n",
       "    <tr>\n",
       "      <th>1</th>\n",
       "      <td>Gaussian Naive Bayes</td>\n",
       "      <td>0.487500</td>\n",
       "      <td>Raw</td>\n",
       "    </tr>\n",
       "    <tr>\n",
       "      <th>2</th>\n",
       "      <td>KNN</td>\n",
       "      <td>0.812500</td>\n",
       "      <td>Raw</td>\n",
       "    </tr>\n",
       "    <tr>\n",
       "      <th>3</th>\n",
       "      <td>Random Forest</td>\n",
       "      <td>0.856250</td>\n",
       "      <td>Augmented</td>\n",
       "    </tr>\n",
       "    <tr>\n",
       "      <th>4</th>\n",
       "      <td>Gaussian Naive Bayes</td>\n",
       "      <td>0.628125</td>\n",
       "      <td>Augmented</td>\n",
       "    </tr>\n",
       "    <tr>\n",
       "      <th>5</th>\n",
       "      <td>KNN</td>\n",
       "      <td>0.840625</td>\n",
       "      <td>Augmented</td>\n",
       "    </tr>\n",
       "    <tr>\n",
       "      <th>6</th>\n",
       "      <td>Random Forest</td>\n",
       "      <td>0.878125</td>\n",
       "      <td>Feature Extracted</td>\n",
       "    </tr>\n",
       "    <tr>\n",
       "      <th>7</th>\n",
       "      <td>Gaussian Naive Bayes</td>\n",
       "      <td>0.534375</td>\n",
       "      <td>Feature Extracted</td>\n",
       "    </tr>\n",
       "    <tr>\n",
       "      <th>8</th>\n",
       "      <td>KNN</td>\n",
       "      <td>0.800000</td>\n",
       "      <td>Feature Extracted</td>\n",
       "    </tr>\n",
       "  </tbody>\n",
       "</table>\n",
       "</div>"
      ],
      "text/plain": [
       "                  Model  Accuracy               Type\n",
       "0         Random Forest  0.881250                Raw\n",
       "1  Gaussian Naive Bayes  0.487500                Raw\n",
       "2                   KNN  0.812500                Raw\n",
       "3         Random Forest  0.856250          Augmented\n",
       "4  Gaussian Naive Bayes  0.628125          Augmented\n",
       "5                   KNN  0.840625          Augmented\n",
       "6         Random Forest  0.878125  Feature Extracted\n",
       "7  Gaussian Naive Bayes  0.534375  Feature Extracted\n",
       "8                   KNN  0.800000  Feature Extracted"
      ]
     },
     "execution_count": 2,
     "metadata": {},
     "output_type": "execute_result"
    }
   ],
   "source": [
    "df = pd.read_csv('Accuracy.csv')\n",
    "df"
   ]
  },
  {
   "cell_type": "code",
   "execution_count": 3,
   "id": "boxed-albania",
   "metadata": {},
   "outputs": [
    {
     "data": {
      "image/png": "[encoded data removed]",
      "text/plain": [
       "<Figure size 432x288 with 1 Axes>"
      ]
     },
     "metadata": {
      "needs_background": "light"
     },
     "output_type": "display_data"
    }
   ],
   "source": [
    "sns.boxplot(data=df, x='Model', y='Accuracy')\n",
    "# plt.savefig('Evaluation Images/ml_boxplot.png')\n",
    "plt.show()"
   ]
  },
  {
   "cell_type": "code",
   "execution_count": 4,
   "id": "british-prescription",
   "metadata": {},
   "outputs": [
    {
     "data": {
      "text/html": [
       "<div>\n",
       "<style scoped>\n",
       "    .dataframe tbody tr th:only-of-type {\n",
       "        vertical-align: middle;\n",
       "    }\n",
       "\n",
       "    .dataframe tbody tr th {\n",
       "        vertical-align: top;\n",
       "    }\n",
       "\n",
       "    .dataframe thead th {\n",
       "        text-align: right;\n",
       "    }\n",
       "</style>\n",
       "<table border=\"1\" class=\"dataframe\">\n",
       "  <thead>\n",
       "    <tr style=\"text-align: right;\">\n",
       "      <th></th>\n",
       "      <th>lr</th>\n",
       "      <th>weight decay</th>\n",
       "      <th>optimizer</th>\n",
       "      <th>loss function</th>\n",
       "      <th>accuracy</th>\n",
       "      <th>type</th>\n",
       "    </tr>\n",
       "  </thead>\n",
       "  <tbody>\n",
       "    <tr>\n",
       "      <th>0</th>\n",
       "      <td>0.001</td>\n",
       "      <td>0.05</td>\n",
       "      <td>SGD</td>\n",
       "      <td>CrossEntropy</td>\n",
       "      <td>0.893750</td>\n",
       "      <td>raw</td>\n",
       "    </tr>\n",
       "    <tr>\n",
       "      <th>1</th>\n",
       "      <td>0.002</td>\n",
       "      <td>0.05</td>\n",
       "      <td>SGD</td>\n",
       "      <td>CrossEntropy</td>\n",
       "      <td>0.853125</td>\n",
       "      <td>raw</td>\n",
       "    </tr>\n",
       "    <tr>\n",
       "      <th>2</th>\n",
       "      <td>0.001</td>\n",
       "      <td>0.05</td>\n",
       "      <td>Adam</td>\n",
       "      <td>CrossEntropy</td>\n",
       "      <td>0.818750</td>\n",
       "      <td>raw</td>\n",
       "    </tr>\n",
       "    <tr>\n",
       "      <th>3</th>\n",
       "      <td>0.002</td>\n",
       "      <td>0.05</td>\n",
       "      <td>Adam</td>\n",
       "      <td>CrossEntropy</td>\n",
       "      <td>0.371875</td>\n",
       "      <td>raw</td>\n",
       "    </tr>\n",
       "    <tr>\n",
       "      <th>4</th>\n",
       "      <td>0.001</td>\n",
       "      <td>0.05</td>\n",
       "      <td>SGD</td>\n",
       "      <td>CrossEntropy</td>\n",
       "      <td>0.887500</td>\n",
       "      <td>augmented</td>\n",
       "    </tr>\n",
       "    <tr>\n",
       "      <th>5</th>\n",
       "      <td>0.002</td>\n",
       "      <td>0.05</td>\n",
       "      <td>SGD</td>\n",
       "      <td>CrossEntropy</td>\n",
       "      <td>0.896875</td>\n",
       "      <td>augmented</td>\n",
       "    </tr>\n",
       "    <tr>\n",
       "      <th>6</th>\n",
       "      <td>0.001</td>\n",
       "      <td>0.05</td>\n",
       "      <td>Adam</td>\n",
       "      <td>CrossEntropy</td>\n",
       "      <td>0.846875</td>\n",
       "      <td>augmented</td>\n",
       "    </tr>\n",
       "    <tr>\n",
       "      <th>7</th>\n",
       "      <td>0.002</td>\n",
       "      <td>0.05</td>\n",
       "      <td>Adam</td>\n",
       "      <td>CrossEntropy</td>\n",
       "      <td>0.837500</td>\n",
       "      <td>augmented</td>\n",
       "    </tr>\n",
       "  </tbody>\n",
       "</table>\n",
       "</div>"
      ],
      "text/plain": [
       "      lr  weight decay optimizer loss function  accuracy       type\n",
       "0  0.001          0.05       SGD  CrossEntropy  0.893750        raw\n",
       "1  0.002          0.05       SGD  CrossEntropy  0.853125        raw\n",
       "2  0.001          0.05      Adam  CrossEntropy  0.818750        raw\n",
       "3  0.002          0.05      Adam  CrossEntropy  0.371875        raw\n",
       "4  0.001          0.05       SGD  CrossEntropy  0.887500  augmented\n",
       "5  0.002          0.05       SGD  CrossEntropy  0.896875  augmented\n",
       "6  0.001          0.05      Adam  CrossEntropy  0.846875  augmented\n",
       "7  0.002          0.05      Adam  CrossEntropy  0.837500  augmented"
      ]
     },
     "execution_count": 4,
     "metadata": {},
     "output_type": "execute_result"
    }
   ],
   "source": [
    "df = pd.read_csv('CNN Models.csv')\n",
    "df"
   ]
  },
  {
   "cell_type": "code",
   "execution_count": 5,
   "id": "offshore-killer",
   "metadata": {},
   "outputs": [
    {
     "data": {
      "image/png": "[encoded data removed]",
      "text/plain": [
       "<Figure size 432x288 with 1 Axes>"
      ]
     },
     "metadata": {
      "needs_background": "light"
     },
     "output_type": "display_data"
    }
   ],
   "source": [
    "sns.boxplot(data=df, x='optimizer', y='accuracy')\n",
    "# plt.savefig('Evaluation Images/dl_boxplot.png')\n",
    "plt.show()"
   ]
  },
  {
   "cell_type": "code",
   "execution_count": 7,
   "id": "cheap-employer",
   "metadata": {},
   "outputs": [],
   "source": [
    "from random_forest_models import random_forest_test\n",
    "from gaussian_nb_models import gaussian_nb_test\n",
    "from knn_models import knn_test"
   ]
  },
  {
   "cell_type": "code",
   "execution_count": 8,
   "id": "bacterial-infrastructure",
   "metadata": {},
   "outputs": [],
   "source": [
    "import pickle"
   ]
  },
  {
   "cell_type": "code",
   "execution_count": 9,
   "id": "expressed-teddy",
   "metadata": {},
   "outputs": [],
   "source": [
    "file = open(\"random_forest_raw\", \"rb\")\n",
    "model = pickle.load(file)"
   ]
  },
  {
   "cell_type": "code",
   "execution_count": 10,
   "id": "medium-appearance",
   "metadata": {},
   "outputs": [
    {
     "data": {
      "text/plain": [
       "{'bootstrap': False, 'n_estimators': 150}"
      ]
     },
     "execution_count": 10,
     "metadata": {},
     "output_type": "execute_result"
    }
   ],
   "source": [
    "model.best_params_"
   ]
  },
  {
   "cell_type": "code",
   "execution_count": 11,
   "id": "fixed-oklahoma",
   "metadata": {},
   "outputs": [
    {
     "data": {
      "text/html": [
       "<div>\n",
       "<style scoped>\n",
       "    .dataframe tbody tr th:only-of-type {\n",
       "        vertical-align: middle;\n",
       "    }\n",
       "\n",
       "    .dataframe tbody tr th {\n",
       "        vertical-align: top;\n",
       "    }\n",
       "\n",
       "    .dataframe thead th {\n",
       "        text-align: right;\n",
       "    }\n",
       "</style>\n",
       "<table border=\"1\" class=\"dataframe\">\n",
       "  <thead>\n",
       "    <tr style=\"text-align: right;\">\n",
       "      <th></th>\n",
       "      <th>Model</th>\n",
       "      <th>Params</th>\n",
       "      <th>Score</th>\n",
       "    </tr>\n",
       "  </thead>\n",
       "  <tbody>\n",
       "    <tr>\n",
       "      <th>0</th>\n",
       "      <td>Random Forest</td>\n",
       "      <td>{'bootstrap': False, 'n_estimators': 150}</td>\n",
       "      <td>0.838281</td>\n",
       "    </tr>\n",
       "  </tbody>\n",
       "</table>\n",
       "</div>"
      ],
      "text/plain": [
       "           Model                                     Params     Score\n",
       "0  Random Forest  {'bootstrap': False, 'n_estimators': 150}  0.838281"
      ]
     },
     "execution_count": 11,
     "metadata": {},
     "output_type": "execute_result"
    }
   ],
   "source": [
    "df = pd.DataFrame(data={\n",
    "    'Model': 'Random Forest',\n",
    "    'Params': [model.best_params_],\n",
    "    'Score': model.best_score_\n",
    "})\n",
    "df"
   ]
  },
  {
   "cell_type": "code",
   "execution_count": 12,
   "id": "selective-james",
   "metadata": {},
   "outputs": [
    {
     "data": {
      "text/html": [
       "<div>\n",
       "<style scoped>\n",
       "    .dataframe tbody tr th:only-of-type {\n",
       "        vertical-align: middle;\n",
       "    }\n",
       "\n",
       "    .dataframe tbody tr th {\n",
       "        vertical-align: top;\n",
       "    }\n",
       "\n",
       "    .dataframe thead th {\n",
       "        text-align: right;\n",
       "    }\n",
       "</style>\n",
       "<table border=\"1\" class=\"dataframe\">\n",
       "  <thead>\n",
       "    <tr style=\"text-align: right;\">\n",
       "      <th></th>\n",
       "      <th>Model</th>\n",
       "      <th>Params</th>\n",
       "      <th>Score</th>\n",
       "    </tr>\n",
       "  </thead>\n",
       "  <tbody>\n",
       "    <tr>\n",
       "      <th>0</th>\n",
       "      <td>Random Forest</td>\n",
       "      <td>{'bootstrap': False, 'n_estimators': 150}</td>\n",
       "      <td>0.838281</td>\n",
       "    </tr>\n",
       "    <tr>\n",
       "      <th>1</th>\n",
       "      <td>Gaussian Naive Bayes</td>\n",
       "      <td>{'var_smoothing': 1e-09}</td>\n",
       "      <td>0.491406</td>\n",
       "    </tr>\n",
       "  </tbody>\n",
       "</table>\n",
       "</div>"
      ],
      "text/plain": [
       "                  Model                                     Params     Score\n",
       "0         Random Forest  {'bootstrap': False, 'n_estimators': 150}  0.838281\n",
       "1  Gaussian Naive Bayes                   {'var_smoothing': 1e-09}  0.491406"
      ]
     },
     "execution_count": 12,
     "metadata": {},
     "output_type": "execute_result"
    }
   ],
   "source": [
    "file = open('gaussian_nb_raw', \"rb\")\n",
    "model = pickle.load(file)\n",
    "\n",
    "data = pd.DataFrame(data={\n",
    "    'Model': 'Gaussian Naive Bayes',\n",
    "    'Params': [model.best_params_],\n",
    "    'Score': model.best_score_\n",
    "})\n",
    "\n",
    "df = df.append(data, ignore_index=True)\n",
    "df"
   ]
  },
  {
   "cell_type": "code",
   "execution_count": 13,
   "id": "amateur-insulin",
   "metadata": {},
   "outputs": [
    {
     "data": {
      "text/html": [
       "<div>\n",
       "<style scoped>\n",
       "    .dataframe tbody tr th:only-of-type {\n",
       "        vertical-align: middle;\n",
       "    }\n",
       "\n",
       "    .dataframe tbody tr th {\n",
       "        vertical-align: top;\n",
       "    }\n",
       "\n",
       "    .dataframe thead th {\n",
       "        text-align: right;\n",
       "    }\n",
       "</style>\n",
       "<table border=\"1\" class=\"dataframe\">\n",
       "  <thead>\n",
       "    <tr style=\"text-align: right;\">\n",
       "      <th></th>\n",
       "      <th>Model</th>\n",
       "      <th>Params</th>\n",
       "      <th>Score</th>\n",
       "    </tr>\n",
       "  </thead>\n",
       "  <tbody>\n",
       "    <tr>\n",
       "      <th>0</th>\n",
       "      <td>Random Forest</td>\n",
       "      <td>{'bootstrap': False, 'n_estimators': 150}</td>\n",
       "      <td>0.838281</td>\n",
       "    </tr>\n",
       "    <tr>\n",
       "      <th>1</th>\n",
       "      <td>Gaussian Naive Bayes</td>\n",
       "      <td>{'var_smoothing': 1e-09}</td>\n",
       "      <td>0.491406</td>\n",
       "    </tr>\n",
       "    <tr>\n",
       "      <th>2</th>\n",
       "      <td>KNN</td>\n",
       "      <td>{'n_neighbors': 5}</td>\n",
       "      <td>0.796094</td>\n",
       "    </tr>\n",
       "  </tbody>\n",
       "</table>\n",
       "</div>"
      ],
      "text/plain": [
       "                  Model                                     Params     Score\n",
       "0         Random Forest  {'bootstrap': False, 'n_estimators': 150}  0.838281\n",
       "1  Gaussian Naive Bayes                   {'var_smoothing': 1e-09}  0.491406\n",
       "2                   KNN                         {'n_neighbors': 5}  0.796094"
      ]
     },
     "execution_count": 13,
     "metadata": {},
     "output_type": "execute_result"
    }
   ],
   "source": [
    "file = open('knn_raw', \"rb\")\n",
    "model = pickle.load(file)\n",
    "\n",
    "data = pd.DataFrame(data={\n",
    "    'Model': 'KNN',\n",
    "    'Params': [model.best_params_],\n",
    "    'Score': model.best_score_\n",
    "})\n",
    "\n",
    "df = df.append(data, ignore_index=True)\n",
    "df"
   ]
  },
  {
   "cell_type": "code",
   "execution_count": 14,
   "id": "greater-clothing",
   "metadata": {},
   "outputs": [
    {
     "data": {
      "text/html": [
       "<div>\n",
       "<style scoped>\n",
       "    .dataframe tbody tr th:only-of-type {\n",
       "        vertical-align: middle;\n",
       "    }\n",
       "\n",
       "    .dataframe tbody tr th {\n",
       "        vertical-align: top;\n",
       "    }\n",
       "\n",
       "    .dataframe thead th {\n",
       "        text-align: right;\n",
       "    }\n",
       "</style>\n",
       "<table border=\"1\" class=\"dataframe\">\n",
       "  <thead>\n",
       "    <tr style=\"text-align: right;\">\n",
       "      <th></th>\n",
       "      <th>Model</th>\n",
       "      <th>Params</th>\n",
       "      <th>Score</th>\n",
       "    </tr>\n",
       "  </thead>\n",
       "  <tbody>\n",
       "    <tr>\n",
       "      <th>0</th>\n",
       "      <td>Random Forest</td>\n",
       "      <td>{'bootstrap': False, 'n_estimators': 150}</td>\n",
       "      <td>0.838281</td>\n",
       "    </tr>\n",
       "    <tr>\n",
       "      <th>1</th>\n",
       "      <td>Gaussian Naive Bayes</td>\n",
       "      <td>{'var_smoothing': 1e-09}</td>\n",
       "      <td>0.491406</td>\n",
       "    </tr>\n",
       "    <tr>\n",
       "      <th>2</th>\n",
       "      <td>KNN</td>\n",
       "      <td>{'n_neighbors': 5}</td>\n",
       "      <td>0.796094</td>\n",
       "    </tr>\n",
       "    <tr>\n",
       "      <th>3</th>\n",
       "      <td>CNN</td>\n",
       "      <td>{'lr': 0.001, 'weight_decay': 0.05}</td>\n",
       "      <td>89.300000</td>\n",
       "    </tr>\n",
       "  </tbody>\n",
       "</table>\n",
       "</div>"
      ],
      "text/plain": [
       "                  Model                                     Params      Score\n",
       "0         Random Forest  {'bootstrap': False, 'n_estimators': 150}   0.838281\n",
       "1  Gaussian Naive Bayes                   {'var_smoothing': 1e-09}   0.491406\n",
       "2                   KNN                         {'n_neighbors': 5}   0.796094\n",
       "3                   CNN        {'lr': 0.001, 'weight_decay': 0.05}  89.300000"
      ]
     },
     "execution_count": 14,
     "metadata": {},
     "output_type": "execute_result"
    }
   ],
   "source": [
    "data = pd.DataFrame(data={\n",
    "    'Model': 'CNN',\n",
    "    'Params': [{'lr': 0.001, 'weight_decay': 0.05}],\n",
    "    'Score': 89.3\n",
    "})\n",
    "\n",
    "df = df.append(data, ignore_index=True)\n",
    "df"
   ]
  },
  {
   "cell_type": "code",
   "execution_count": 15,
   "id": "fatty-incident",
   "metadata": {
    "scrolled": true
   },
   "outputs": [
    {
     "data": {
      "text/html": [
       "<div>\n",
       "<style scoped>\n",
       "    .dataframe tbody tr th:only-of-type {\n",
       "        vertical-align: middle;\n",
       "    }\n",
       "\n",
       "    .dataframe tbody tr th {\n",
       "        vertical-align: top;\n",
       "    }\n",
       "\n",
       "    .dataframe thead th {\n",
       "        text-align: right;\n",
       "    }\n",
       "</style>\n",
       "<table border=\"1\" class=\"dataframe\">\n",
       "  <thead>\n",
       "    <tr style=\"text-align: right;\">\n",
       "      <th></th>\n",
       "      <th>Unnamed: 0</th>\n",
       "      <th>1</th>\n",
       "      <th>2</th>\n",
       "      <th>3</th>\n",
       "      <th>4</th>\n",
       "      <th>5</th>\n",
       "      <th>6</th>\n",
       "      <th>accuracy</th>\n",
       "      <th>macro avg</th>\n",
       "      <th>weighted avg</th>\n",
       "    </tr>\n",
       "  </thead>\n",
       "  <tbody>\n",
       "    <tr>\n",
       "      <th>0</th>\n",
       "      <td>precision</td>\n",
       "      <td>0.964286</td>\n",
       "      <td>0.976744</td>\n",
       "      <td>0.887097</td>\n",
       "      <td>0.807692</td>\n",
       "      <td>0.739130</td>\n",
       "      <td>1.000000</td>\n",
       "      <td>0.88125</td>\n",
       "      <td>0.895825</td>\n",
       "      <td>0.889659</td>\n",
       "    </tr>\n",
       "    <tr>\n",
       "      <th>1</th>\n",
       "      <td>recall</td>\n",
       "      <td>1.000000</td>\n",
       "      <td>0.893617</td>\n",
       "      <td>0.859375</td>\n",
       "      <td>0.792453</td>\n",
       "      <td>0.894737</td>\n",
       "      <td>0.844444</td>\n",
       "      <td>0.88125</td>\n",
       "      <td>0.880771</td>\n",
       "      <td>0.881250</td>\n",
       "    </tr>\n",
       "    <tr>\n",
       "      <th>2</th>\n",
       "      <td>f1-score</td>\n",
       "      <td>0.981818</td>\n",
       "      <td>0.933333</td>\n",
       "      <td>0.873016</td>\n",
       "      <td>0.800000</td>\n",
       "      <td>0.809524</td>\n",
       "      <td>0.915663</td>\n",
       "      <td>0.88125</td>\n",
       "      <td>0.885559</td>\n",
       "      <td>0.882830</td>\n",
       "    </tr>\n",
       "    <tr>\n",
       "      <th>3</th>\n",
       "      <td>support</td>\n",
       "      <td>54.000000</td>\n",
       "      <td>47.000000</td>\n",
       "      <td>64.000000</td>\n",
       "      <td>53.000000</td>\n",
       "      <td>57.000000</td>\n",
       "      <td>45.000000</td>\n",
       "      <td>0.88125</td>\n",
       "      <td>320.000000</td>\n",
       "      <td>320.000000</td>\n",
       "    </tr>\n",
       "  </tbody>\n",
       "</table>\n",
       "</div>"
      ],
      "text/plain": [
       "  Unnamed: 0          1          2          3          4          5  \\\n",
       "0  precision   0.964286   0.976744   0.887097   0.807692   0.739130   \n",
       "1     recall   1.000000   0.893617   0.859375   0.792453   0.894737   \n",
       "2   f1-score   0.981818   0.933333   0.873016   0.800000   0.809524   \n",
       "3    support  54.000000  47.000000  64.000000  53.000000  57.000000   \n",
       "\n",
       "           6  accuracy   macro avg  weighted avg  \n",
       "0   1.000000   0.88125    0.895825      0.889659  \n",
       "1   0.844444   0.88125    0.880771      0.881250  \n",
       "2   0.915663   0.88125    0.885559      0.882830  \n",
       "3  45.000000   0.88125  320.000000    320.000000  "
      ]
     },
     "execution_count": 15,
     "metadata": {},
     "output_type": "execute_result"
    }
   ],
   "source": [
    "df = pd.read_csv('Model Reports/Random_Forest_Raw.csv')\n",
    "df"
   ]
  },
  {
   "cell_type": "code",
   "execution_count": 17,
   "id": "dangerous-colleague",
   "metadata": {},
   "outputs": [
    {
     "data": {
      "text/plain": [
       "Unnamed: 0      f1-score\n",
       "1               0.981818\n",
       "2               0.933333\n",
       "3               0.873016\n",
       "4                    0.8\n",
       "5               0.809524\n",
       "6               0.915663\n",
       "accuracy         0.88125\n",
       "macro avg       0.885559\n",
       "weighted avg     0.88283\n",
       "Name: 2, dtype: object"
      ]
     },
     "execution_count": 17,
     "metadata": {},
     "output_type": "execute_result"
    }
   ],
   "source": [
    "df = df.iloc[2]\n",
    "df"
   ]
  },
  {
   "cell_type": "code",
   "execution_count": 30,
   "id": "accepted-lawsuit",
   "metadata": {},
   "outputs": [],
   "source": [
    "f1_rf_raw = df[1:].sum()/len(df[1:])"
   ]
  },
  {
   "cell_type": "code",
   "execution_count": 31,
   "id": "boring-situation",
   "metadata": {},
   "outputs": [
    {
     "data": {
      "text/plain": [
       "0.8847769597711029"
      ]
     },
     "execution_count": 31,
     "metadata": {},
     "output_type": "execute_result"
    }
   ],
   "source": [
    "f1_rf_raw"
   ]
  },
  {
   "cell_type": "code",
   "execution_count": 32,
   "id": "rough-nerve",
   "metadata": {},
   "outputs": [
    {
     "data": {
      "text/html": [
       "<div>\n",
       "<style scoped>\n",
       "    .dataframe tbody tr th:only-of-type {\n",
       "        vertical-align: middle;\n",
       "    }\n",
       "\n",
       "    .dataframe tbody tr th {\n",
       "        vertical-align: top;\n",
       "    }\n",
       "\n",
       "    .dataframe thead th {\n",
       "        text-align: right;\n",
       "    }\n",
       "</style>\n",
       "<table border=\"1\" class=\"dataframe\">\n",
       "  <thead>\n",
       "    <tr style=\"text-align: right;\">\n",
       "      <th></th>\n",
       "      <th>Unnamed: 0</th>\n",
       "      <th>1</th>\n",
       "      <th>2</th>\n",
       "      <th>3</th>\n",
       "      <th>4</th>\n",
       "      <th>5</th>\n",
       "      <th>6</th>\n",
       "      <th>accuracy</th>\n",
       "      <th>macro avg</th>\n",
       "      <th>weighted avg</th>\n",
       "    </tr>\n",
       "  </thead>\n",
       "  <tbody>\n",
       "    <tr>\n",
       "      <th>0</th>\n",
       "      <td>precision</td>\n",
       "      <td>0.779661</td>\n",
       "      <td>0.320000</td>\n",
       "      <td>0.459459</td>\n",
       "      <td>0.583333</td>\n",
       "      <td>0.350649</td>\n",
       "      <td>0.493151</td>\n",
       "      <td>0.4875</td>\n",
       "      <td>0.497709</td>\n",
       "      <td>0.498883</td>\n",
       "    </tr>\n",
       "    <tr>\n",
       "      <th>1</th>\n",
       "      <td>recall</td>\n",
       "      <td>0.851852</td>\n",
       "      <td>0.340426</td>\n",
       "      <td>0.265625</td>\n",
       "      <td>0.264151</td>\n",
       "      <td>0.473684</td>\n",
       "      <td>0.800000</td>\n",
       "      <td>0.4875</td>\n",
       "      <td>0.499290</td>\n",
       "      <td>0.487500</td>\n",
       "    </tr>\n",
       "    <tr>\n",
       "      <th>2</th>\n",
       "      <td>f1-score</td>\n",
       "      <td>0.814159</td>\n",
       "      <td>0.329897</td>\n",
       "      <td>0.336634</td>\n",
       "      <td>0.363636</td>\n",
       "      <td>0.402985</td>\n",
       "      <td>0.610169</td>\n",
       "      <td>0.4875</td>\n",
       "      <td>0.476247</td>\n",
       "      <td>0.470984</td>\n",
       "    </tr>\n",
       "    <tr>\n",
       "      <th>3</th>\n",
       "      <td>support</td>\n",
       "      <td>54.000000</td>\n",
       "      <td>47.000000</td>\n",
       "      <td>64.000000</td>\n",
       "      <td>53.000000</td>\n",
       "      <td>57.000000</td>\n",
       "      <td>45.000000</td>\n",
       "      <td>0.4875</td>\n",
       "      <td>320.000000</td>\n",
       "      <td>320.000000</td>\n",
       "    </tr>\n",
       "  </tbody>\n",
       "</table>\n",
       "</div>"
      ],
      "text/plain": [
       "  Unnamed: 0          1          2          3          4          5  \\\n",
       "0  precision   0.779661   0.320000   0.459459   0.583333   0.350649   \n",
       "1     recall   0.851852   0.340426   0.265625   0.264151   0.473684   \n",
       "2   f1-score   0.814159   0.329897   0.336634   0.363636   0.402985   \n",
       "3    support  54.000000  47.000000  64.000000  53.000000  57.000000   \n",
       "\n",
       "           6  accuracy   macro avg  weighted avg  \n",
       "0   0.493151    0.4875    0.497709      0.498883  \n",
       "1   0.800000    0.4875    0.499290      0.487500  \n",
       "2   0.610169    0.4875    0.476247      0.470984  \n",
       "3  45.000000    0.4875  320.000000    320.000000  "
      ]
     },
     "execution_count": 32,
     "metadata": {},
     "output_type": "execute_result"
    }
   ],
   "source": [
    "df = pd.read_csv('Model Reports/GaussianNB_Raw.csv')\n",
    "df"
   ]
  },
  {
   "cell_type": "code",
   "execution_count": 33,
   "id": "christian-frost",
   "metadata": {},
   "outputs": [
    {
     "data": {
      "text/plain": [
       "Unnamed: 0      f1-score\n",
       "1               0.814159\n",
       "2               0.329897\n",
       "3               0.336634\n",
       "4               0.363636\n",
       "5               0.402985\n",
       "6               0.610169\n",
       "accuracy          0.4875\n",
       "macro avg       0.476247\n",
       "weighted avg    0.470984\n",
       "Name: 2, dtype: object"
      ]
     },
     "execution_count": 33,
     "metadata": {},
     "output_type": "execute_result"
    }
   ],
   "source": [
    "df = df.iloc[2]\n",
    "df"
   ]
  },
  {
   "cell_type": "code",
   "execution_count": 34,
   "id": "fuzzy-prince",
   "metadata": {},
   "outputs": [
    {
     "data": {
      "text/plain": [
       "0.476912376275997"
      ]
     },
     "execution_count": 34,
     "metadata": {},
     "output_type": "execute_result"
    }
   ],
   "source": [
    "f1_gnb_raw = df[1:].sum()/len(df[1:])\n",
    "f1_gnb_raw"
   ]
  },
  {
   "cell_type": "code",
   "execution_count": 35,
   "id": "statutory-civilization",
   "metadata": {},
   "outputs": [
    {
     "data": {
      "text/plain": [
       "0.8154636625041854"
      ]
     },
     "execution_count": 35,
     "metadata": {},
     "output_type": "execute_result"
    }
   ],
   "source": [
    "df = pd.read_csv('Model Reports/KNN_Raw.csv')\n",
    "df\n",
    "\n",
    "df = df.iloc[2]\n",
    "df\n",
    "\n",
    "f1_knn_raw = df[1:].sum()/len(df[1:])\n",
    "f1_knn_raw"
   ]
  },
  {
   "cell_type": "code",
   "execution_count": 36,
   "id": "secondary-michael",
   "metadata": {},
   "outputs": [
    {
     "data": {
      "text/plain": [
       "0.856973436222079"
      ]
     },
     "execution_count": 36,
     "metadata": {},
     "output_type": "execute_result"
    }
   ],
   "source": [
    "df = pd.read_csv('Model Reports/Random_Forest_Augmented.csv')\n",
    "df\n",
    "\n",
    "df = df.iloc[2]\n",
    "df\n",
    "\n",
    "f1_rf_augmented = df[1:].sum()/len(df[1:])\n",
    "f1_rf_augmented"
   ]
  },
  {
   "cell_type": "code",
   "execution_count": 37,
   "id": "greenhouse-geology",
   "metadata": {},
   "outputs": [
    {
     "data": {
      "text/plain": [
       "0.626987529160774"
      ]
     },
     "execution_count": 37,
     "metadata": {},
     "output_type": "execute_result"
    }
   ],
   "source": [
    "df = pd.read_csv('Model Reports/GaussianNB_Augmented.csv')\n",
    "df\n",
    "\n",
    "df = df.iloc[2]\n",
    "df\n",
    "\n",
    "f1_gnb_augmented = df[1:].sum()/len(df[1:])\n",
    "f1_gnb_augmented"
   ]
  },
  {
   "cell_type": "code",
   "execution_count": 38,
   "id": "smoking-development",
   "metadata": {},
   "outputs": [
    {
     "data": {
      "text/plain": [
       "0.8408650407942582"
      ]
     },
     "execution_count": 38,
     "metadata": {},
     "output_type": "execute_result"
    }
   ],
   "source": [
    "df = pd.read_csv('Model Reports/KNN_Augmented.csv')\n",
    "df\n",
    "\n",
    "df = df.iloc[2]\n",
    "df\n",
    "\n",
    "f1_knn_augmented = df[1:].sum()/len(df[1:])\n",
    "f1_knn_augmented"
   ]
  },
  {
   "cell_type": "code",
   "execution_count": 39,
   "id": "provincial-ultimate",
   "metadata": {},
   "outputs": [
    {
     "data": {
      "text/plain": [
       "0.8816942287717053"
      ]
     },
     "execution_count": 39,
     "metadata": {},
     "output_type": "execute_result"
    }
   ],
   "source": [
    "df = pd.read_csv('Model Reports/Random_Forest_Feature_ext.csv')\n",
    "df\n",
    "\n",
    "df = df.iloc[2]\n",
    "df\n",
    "\n",
    "f1_rf_feature_ext = df[1:].sum()/len(df[1:])\n",
    "f1_rf_feature_ext"
   ]
  },
  {
   "cell_type": "code",
   "execution_count": 40,
   "id": "changing-running",
   "metadata": {},
   "outputs": [
    {
     "data": {
      "text/plain": [
       "0.5208646809606406"
      ]
     },
     "execution_count": 40,
     "metadata": {},
     "output_type": "execute_result"
    }
   ],
   "source": [
    "df = pd.read_csv('Model Reports/GaussianNB_Feature_ext.csv')\n",
    "df\n",
    "\n",
    "df = df.iloc[2]\n",
    "df\n",
    "\n",
    "f1_gnb_feature_ext = df[1:].sum()/len(df[1:])\n",
    "f1_gnb_feature_ext"
   ]
  },
  {
   "cell_type": "code",
   "execution_count": 41,
   "id": "excessive-profession",
   "metadata": {},
   "outputs": [
    {
     "data": {
      "text/plain": [
       "0.803554453601541"
      ]
     },
     "execution_count": 41,
     "metadata": {},
     "output_type": "execute_result"
    }
   ],
   "source": [
    "df = pd.read_csv('Model Reports/KNN_Feature_ext.csv')\n",
    "df\n",
    "\n",
    "df = df.iloc[2]\n",
    "df\n",
    "\n",
    "f1_knn_feature_ext = df[1:].sum()/len(df[1:])\n",
    "f1_knn_feature_ext"
   ]
  },
  {
   "cell_type": "code",
   "execution_count": 44,
   "id": "african-significance",
   "metadata": {},
   "outputs": [
    {
     "data": {
      "text/html": [
       "<div>\n",
       "<style scoped>\n",
       "    .dataframe tbody tr th:only-of-type {\n",
       "        vertical-align: middle;\n",
       "    }\n",
       "\n",
       "    .dataframe tbody tr th {\n",
       "        vertical-align: top;\n",
       "    }\n",
       "\n",
       "    .dataframe thead th {\n",
       "        text-align: right;\n",
       "    }\n",
       "</style>\n",
       "<table border=\"1\" class=\"dataframe\">\n",
       "  <thead>\n",
       "    <tr style=\"text-align: right;\">\n",
       "      <th></th>\n",
       "      <th>Models</th>\n",
       "      <th>F1-Scores</th>\n",
       "      <th>Type</th>\n",
       "    </tr>\n",
       "  </thead>\n",
       "  <tbody>\n",
       "    <tr>\n",
       "      <th>0</th>\n",
       "      <td>Random Forest</td>\n",
       "      <td>0.884777</td>\n",
       "      <td>Raw</td>\n",
       "    </tr>\n",
       "    <tr>\n",
       "      <th>1</th>\n",
       "      <td>Gaussian NB</td>\n",
       "      <td>0.476912</td>\n",
       "      <td>Raw</td>\n",
       "    </tr>\n",
       "    <tr>\n",
       "      <th>2</th>\n",
       "      <td>KNN</td>\n",
       "      <td>0.815464</td>\n",
       "      <td>Raw</td>\n",
       "    </tr>\n",
       "    <tr>\n",
       "      <th>3</th>\n",
       "      <td>Random Forest</td>\n",
       "      <td>0.856973</td>\n",
       "      <td>Augmented</td>\n",
       "    </tr>\n",
       "    <tr>\n",
       "      <th>4</th>\n",
       "      <td>Gaussian NB</td>\n",
       "      <td>0.626988</td>\n",
       "      <td>Augmented</td>\n",
       "    </tr>\n",
       "    <tr>\n",
       "      <th>5</th>\n",
       "      <td>KNN</td>\n",
       "      <td>0.840865</td>\n",
       "      <td>Augmented</td>\n",
       "    </tr>\n",
       "    <tr>\n",
       "      <th>6</th>\n",
       "      <td>Random Forest</td>\n",
       "      <td>0.881694</td>\n",
       "      <td>Feature Extracted</td>\n",
       "    </tr>\n",
       "    <tr>\n",
       "      <th>7</th>\n",
       "      <td>Gaussian NB</td>\n",
       "      <td>0.520865</td>\n",
       "      <td>Feature Extracted</td>\n",
       "    </tr>\n",
       "    <tr>\n",
       "      <th>8</th>\n",
       "      <td>KNN</td>\n",
       "      <td>0.803554</td>\n",
       "      <td>Feature Extracted</td>\n",
       "    </tr>\n",
       "  </tbody>\n",
       "</table>\n",
       "</div>"
      ],
      "text/plain": [
       "          Models  F1-Scores               Type\n",
       "0  Random Forest   0.884777                Raw\n",
       "1    Gaussian NB   0.476912                Raw\n",
       "2            KNN   0.815464                Raw\n",
       "3  Random Forest   0.856973          Augmented\n",
       "4    Gaussian NB   0.626988          Augmented\n",
       "5            KNN   0.840865          Augmented\n",
       "6  Random Forest   0.881694  Feature Extracted\n",
       "7    Gaussian NB   0.520865  Feature Extracted\n",
       "8            KNN   0.803554  Feature Extracted"
      ]
     },
     "execution_count": 44,
     "metadata": {},
     "output_type": "execute_result"
    }
   ],
   "source": [
    "df = pd.DataFrame(data={\n",
    "    'Models': ['Random Forest', 'Gaussian NB', 'KNN', 'Random Forest', 'Gaussian NB', 'KNN', 'Random Forest', 'Gaussian NB', 'KNN'],\n",
    "    'F1-Scores': [f1_rf_raw, f1_gnb_raw, f1_knn_raw, f1_rf_augmented, f1_gnb_augmented, f1_knn_augmented,\n",
    "                  f1_rf_feature_ext, f1_gnb_feature_ext, f1_knn_feature_ext],\n",
    "    'Type': ['Raw', 'Raw', 'Raw', 'Augmented', 'Augmented', 'Augmented', 'Feature Extracted', 'Feature Extracted',\n",
    "                'Feature Extracted']\n",
    "})\n",
    "\n",
    "df"
   ]
  },
  {
   "cell_type": "code",
   "execution_count": 49,
   "id": "committed-ethics",
   "metadata": {},
   "outputs": [
    {
     "data": {
      "image/png": "[encoded data removed]",
      "text/plain": [
       "<Figure size 504x504 with 1 Axes>"
      ]
     },
     "metadata": {
      "needs_background": "light"
     },
     "output_type": "display_data"
    }
   ],
   "source": [
    "plt.figure(figsize=(7,7))\n",
    "sns.barplot(data=df, x='Models', y='F1-Scores', hue='Type')\n",
    "plt.legend(loc='upper right')\n",
    "plt.show()"
   ]
  },
  {
   "cell_type": "code",
   "execution_count": 50,
   "id": "stupid-prime",
   "metadata": {},
   "outputs": [
    {
     "data": {
      "text/html": [
       "<div>\n",
       "<style scoped>\n",
       "    .dataframe tbody tr th:only-of-type {\n",
       "        vertical-align: middle;\n",
       "    }\n",
       "\n",
       "    .dataframe tbody tr th {\n",
       "        vertical-align: top;\n",
       "    }\n",
       "\n",
       "    .dataframe thead th {\n",
       "        text-align: right;\n",
       "    }\n",
       "</style>\n",
       "<table border=\"1\" class=\"dataframe\">\n",
       "  <thead>\n",
       "    <tr style=\"text-align: right;\">\n",
       "      <th></th>\n",
       "      <th>Model</th>\n",
       "      <th>Accuracy</th>\n",
       "      <th>Type</th>\n",
       "    </tr>\n",
       "  </thead>\n",
       "  <tbody>\n",
       "    <tr>\n",
       "      <th>6</th>\n",
       "      <td>Random Forest</td>\n",
       "      <td>0.878125</td>\n",
       "      <td>Feature Extracted</td>\n",
       "    </tr>\n",
       "    <tr>\n",
       "      <th>7</th>\n",
       "      <td>Gaussian Naive Bayes</td>\n",
       "      <td>0.534375</td>\n",
       "      <td>Feature Extracted</td>\n",
       "    </tr>\n",
       "    <tr>\n",
       "      <th>8</th>\n",
       "      <td>KNN</td>\n",
       "      <td>0.800000</td>\n",
       "      <td>Feature Extracted</td>\n",
       "    </tr>\n",
       "  </tbody>\n",
       "</table>\n",
       "</div>"
      ],
      "text/plain": [
       "                  Model  Accuracy               Type\n",
       "6         Random Forest  0.878125  Feature Extracted\n",
       "7  Gaussian Naive Bayes  0.534375  Feature Extracted\n",
       "8                   KNN  0.800000  Feature Extracted"
      ]
     },
     "execution_count": 50,
     "metadata": {},
     "output_type": "execute_result"
    }
   ],
   "source": [
    "df = pd.read_csv('Accuracy.csv')\n",
    "df = df.iloc[-3:]\n",
    "df"
   ]
  },
  {
   "cell_type": "code",
   "execution_count": 51,
   "id": "subjective-fifteen",
   "metadata": {},
   "outputs": [
    {
     "data": {
      "text/plain": [
       "<AxesSubplot:xlabel='Model', ylabel='Accuracy'>"
      ]
     },
     "execution_count": 51,
     "metadata": {},
     "output_type": "execute_result"
    },
    {
     "data": {
      "image/png": "[encoded data removed]",
      "text/plain": [
       "<Figure size 504x504 with 1 Axes>"
      ]
     },
     "metadata": {
      "needs_background": "light"
     },
     "output_type": "display_data"
    }
   ],
   "source": [
    "plt.figure(figsize=(7,7))\n",
    "sns.barplot(data=df, x='Model', y='Accuracy')"
   ]
  },
  {
   "cell_type": "code",
   "execution_count": 2,
   "id": "destroyed-limit",
   "metadata": {},
   "outputs": [
    {
     "data": {
      "text/html": [
       "<div>\n",
       "<style scoped>\n",
       "    .dataframe tbody tr th:only-of-type {\n",
       "        vertical-align: middle;\n",
       "    }\n",
       "\n",
       "    .dataframe tbody tr th {\n",
       "        vertical-align: top;\n",
       "    }\n",
       "\n",
       "    .dataframe thead th {\n",
       "        text-align: right;\n",
       "    }\n",
       "</style>\n",
       "<table border=\"1\" class=\"dataframe\">\n",
       "  <thead>\n",
       "    <tr style=\"text-align: right;\">\n",
       "      <th></th>\n",
       "      <th>Models</th>\n",
       "      <th>Precision</th>\n",
       "      <th>Type</th>\n",
       "    </tr>\n",
       "  </thead>\n",
       "  <tbody>\n",
       "    <tr>\n",
       "      <th>0</th>\n",
       "      <td>Random Forest</td>\n",
       "      <td>0.893520</td>\n",
       "      <td>Raw</td>\n",
       "    </tr>\n",
       "    <tr>\n",
       "      <th>1</th>\n",
       "      <td>Gaussian NB</td>\n",
       "      <td>0.496705</td>\n",
       "      <td>Raw</td>\n",
       "    </tr>\n",
       "    <tr>\n",
       "      <th>2</th>\n",
       "      <td>KNN</td>\n",
       "      <td>0.824219</td>\n",
       "      <td>Raw</td>\n",
       "    </tr>\n",
       "    <tr>\n",
       "      <th>3</th>\n",
       "      <td>Random Forest</td>\n",
       "      <td>0.856667</td>\n",
       "      <td>Augmented</td>\n",
       "    </tr>\n",
       "    <tr>\n",
       "      <th>4</th>\n",
       "      <td>Gaussian NB</td>\n",
       "      <td>0.637953</td>\n",
       "      <td>Augmented</td>\n",
       "    </tr>\n",
       "    <tr>\n",
       "      <th>5</th>\n",
       "      <td>KNN</td>\n",
       "      <td>0.851836</td>\n",
       "      <td>Augmented</td>\n",
       "    </tr>\n",
       "    <tr>\n",
       "      <th>6</th>\n",
       "      <td>Random Forest</td>\n",
       "      <td>0.888772</td>\n",
       "      <td>Feature Extracted</td>\n",
       "    </tr>\n",
       "    <tr>\n",
       "      <th>7</th>\n",
       "      <td>Gaussian NB</td>\n",
       "      <td>0.549344</td>\n",
       "      <td>Feature Extracted</td>\n",
       "    </tr>\n",
       "    <tr>\n",
       "      <th>8</th>\n",
       "      <td>KNN</td>\n",
       "      <td>0.814177</td>\n",
       "      <td>Feature Extracted</td>\n",
       "    </tr>\n",
       "  </tbody>\n",
       "</table>\n",
       "</div>"
      ],
      "text/plain": [
       "          Models  Precision               Type\n",
       "0  Random Forest   0.893520                Raw\n",
       "1    Gaussian NB   0.496705                Raw\n",
       "2            KNN   0.824219                Raw\n",
       "3  Random Forest   0.856667          Augmented\n",
       "4    Gaussian NB   0.637953          Augmented\n",
       "5            KNN   0.851836          Augmented\n",
       "6  Random Forest   0.888772  Feature Extracted\n",
       "7    Gaussian NB   0.549344  Feature Extracted\n",
       "8            KNN   0.814177  Feature Extracted"
      ]
     },
     "execution_count": 2,
     "metadata": {},
     "output_type": "execute_result"
    }
   ],
   "source": [
    "df = pd.read_csv('Model Reports/Random_Forest_Raw.csv')\n",
    "df\n",
    "\n",
    "df = df.iloc[0]\n",
    "df\n",
    "\n",
    "rf_raw = df[1:].sum()/len(df[1:])\n",
    "\n",
    "rf_raw\n",
    "\n",
    "df = pd.read_csv('Model Reports/GaussianNB_Raw.csv')\n",
    "df\n",
    "\n",
    "df = df.iloc[0]\n",
    "df\n",
    "\n",
    "gnb_raw = df[1:].sum()/len(df[1:])\n",
    "gnb_raw\n",
    "\n",
    "df = pd.read_csv('Model Reports/KNN_Raw.csv')\n",
    "df\n",
    "\n",
    "df = df.iloc[0]\n",
    "df\n",
    "\n",
    "knn_raw = df[1:].sum()/len(df[1:])\n",
    "knn_raw\n",
    "\n",
    "df = pd.read_csv('Model Reports/Random_Forest_Augmented.csv')\n",
    "df\n",
    "\n",
    "df = df.iloc[0]\n",
    "df\n",
    "\n",
    "rf_augmented = df[1:].sum()/len(df[1:])\n",
    "rf_augmented\n",
    "\n",
    "df = pd.read_csv('Model Reports/GaussianNB_Augmented.csv')\n",
    "df\n",
    "\n",
    "df = df.iloc[0]\n",
    "df\n",
    "\n",
    "gnb_augmented = df[1:].sum()/len(df[1:])\n",
    "gnb_augmented\n",
    "\n",
    "df = pd.read_csv('Model Reports/KNN_Augmented.csv')\n",
    "df\n",
    "\n",
    "df = df.iloc[0]\n",
    "df\n",
    "\n",
    "knn_augmented = df[1:].sum()/len(df[1:])\n",
    "knn_augmented\n",
    "\n",
    "df = pd.read_csv('Model Reports/Random_Forest_Feature_ext.csv')\n",
    "df\n",
    "\n",
    "df = df.iloc[0]\n",
    "df\n",
    "\n",
    "rf_feature_ext = df[1:].sum()/len(df[1:])\n",
    "rf_feature_ext\n",
    "\n",
    "df = pd.read_csv('Model Reports/GaussianNB_Feature_ext.csv')\n",
    "df\n",
    "\n",
    "df = df.iloc[0]\n",
    "df\n",
    "\n",
    "gnb_feature_ext = df[1:].sum()/len(df[1:])\n",
    "gnb_feature_ext\n",
    "\n",
    "df = pd.read_csv('Model Reports/KNN_Feature_ext.csv')\n",
    "df\n",
    "\n",
    "df = df.iloc[0]\n",
    "df\n",
    "\n",
    "knn_feature_ext = df[1:].sum()/len(df[1:])\n",
    "knn_feature_ext\n",
    "\n",
    "df = pd.DataFrame(data={\n",
    "    'Models': ['Random Forest', 'Gaussian NB', 'KNN', 'Random Forest', 'Gaussian NB', 'KNN', 'Random Forest', 'Gaussian NB', 'KNN'],\n",
    "    'Precision': [rf_raw, gnb_raw, knn_raw, rf_augmented, gnb_augmented, knn_augmented,\n",
    "                  rf_feature_ext, gnb_feature_ext, knn_feature_ext],\n",
    "    'Type': ['Raw', 'Raw', 'Raw', 'Augmented', 'Augmented', 'Augmented', 'Feature Extracted', 'Feature Extracted',\n",
    "                'Feature Extracted']\n",
    "})\n",
    "\n",
    "df"
   ]
  },
  {
   "cell_type": "code",
   "execution_count": 3,
   "id": "modular-doctrine",
   "metadata": {},
   "outputs": [
    {
     "data": {
      "image/png": "[encoded data removed]",
      "text/plain": [
       "<Figure size 504x504 with 1 Axes>"
      ]
     },
     "metadata": {
      "needs_background": "light"
     },
     "output_type": "display_data"
    }
   ],
   "source": [
    "plt.figure(figsize=(7,7))\n",
    "sns.barplot(data=df, x='Models', y='Precision', hue='Type')\n",
    "plt.legend(loc='upper right')\n",
    "plt.show()"
   ]
  },
  {
   "cell_type": "code",
   "execution_count": 5,
   "id": "adjacent-energy",
   "metadata": {},
   "outputs": [
    {
     "data": {
      "image/png": "[encoded data removed]",
      "text/plain": [
       "<Figure size 504x504 with 1 Axes>"
      ]
     },
     "metadata": {
      "needs_background": "light"
     },
     "output_type": "display_data"
    }
   ],
   "source": [
    "df = pd.read_csv('Model Reports/Random_Forest_Raw.csv')\n",
    "df\n",
    "\n",
    "df = df.iloc[1]\n",
    "df\n",
    "\n",
    "rf_raw = df[1:].sum()/len(df[1:])\n",
    "\n",
    "rf_raw\n",
    "\n",
    "df = pd.read_csv('Model Reports/GaussianNB_Raw.csv')\n",
    "df\n",
    "\n",
    "df = df.iloc[1]\n",
    "df\n",
    "\n",
    "gnb_raw = df[1:].sum()/len(df[1:])\n",
    "gnb_raw\n",
    "\n",
    "df = pd.read_csv('Model Reports/KNN_Raw.csv')\n",
    "df\n",
    "\n",
    "df = df.iloc[1]\n",
    "df\n",
    "\n",
    "knn_raw = df[1:].sum()/len(df[1:])\n",
    "knn_raw\n",
    "\n",
    "df = pd.read_csv('Model Reports/Random_Forest_Augmented.csv')\n",
    "df\n",
    "\n",
    "df = df.iloc[1]\n",
    "df\n",
    "\n",
    "rf_augmented = df[1:].sum()/len(df[1:])\n",
    "rf_augmented\n",
    "\n",
    "df = pd.read_csv('Model Reports/GaussianNB_Augmented.csv')\n",
    "df\n",
    "\n",
    "df = df.iloc[1]\n",
    "df\n",
    "\n",
    "gnb_augmented = df[1:].sum()/len(df[1:])\n",
    "gnb_augmented\n",
    "\n",
    "df = pd.read_csv('Model Reports/KNN_Augmented.csv')\n",
    "df\n",
    "\n",
    "df = df.iloc[1]\n",
    "df\n",
    "\n",
    "knn_augmented = df[1:].sum()/len(df[1:])\n",
    "knn_augmented\n",
    "\n",
    "df = pd.read_csv('Model Reports/Random_Forest_Feature_ext.csv')\n",
    "df\n",
    "\n",
    "df = df.iloc[1]\n",
    "df\n",
    "\n",
    "rf_feature_ext = df[1:].sum()/len(df[1:])\n",
    "rf_feature_ext\n",
    "\n",
    "df = pd.read_csv('Model Reports/GaussianNB_Feature_ext.csv')\n",
    "df\n",
    "\n",
    "df = df.iloc[1]\n",
    "df\n",
    "\n",
    "gnb_feature_ext = df[1:].sum()/len(df[1:])\n",
    "gnb_feature_ext\n",
    "\n",
    "df = pd.read_csv('Model Reports/KNN_Feature_ext.csv')\n",
    "df\n",
    "\n",
    "df = df.iloc[1]\n",
    "df\n",
    "\n",
    "knn_feature_ext = df[1:].sum()/len(df[1:])\n",
    "knn_feature_ext\n",
    "\n",
    "df = pd.DataFrame(data={\n",
    "    'Models': ['Random Forest', 'Gaussian NB', 'KNN', 'Random Forest', 'Gaussian NB', 'KNN', 'Random Forest', 'Gaussian NB', 'KNN'],\n",
    "    'Recall': [rf_raw, gnb_raw, knn_raw, rf_augmented, gnb_augmented, knn_augmented,\n",
    "                  rf_feature_ext, gnb_feature_ext, knn_feature_ext],\n",
    "    'Type': ['Raw', 'Raw', 'Raw', 'Augmented', 'Augmented', 'Augmented', 'Feature Extracted', 'Feature Extracted',\n",
    "                'Feature Extracted']\n",
    "})\n",
    "\n",
    "df\n",
    "\n",
    "plt.figure(figsize=(7,7))\n",
    "sns.barplot(data=df, x='Models', y='Recall', hue='Type')\n",
    "plt.legend(loc='upper right')\n",
    "plt.show()"
   ]
  }
 ],
 "metadata": {
  "kernelspec": {
   "display_name": "Python 3",
   "language": "python",
   "name": "python3"
  },
  "language_info": {
   "codemirror_mode": {
    "name": "ipython",
    "version": 3
   },
   "file_extension": ".py",
   "mimetype": "text/x-python",
   "name": "python",
   "nbconvert_exporter": "python",
   "pygments_lexer": "ipython3",
   "version": "3.9.2"
  }
 },
 "nbformat": 4,
 "nbformat_minor": 5
}
